{
  "nbformat": 4,
  "nbformat_minor": 0,
  "metadata": {
    "colab": {
      "name": "Training.ipynb",
      "provenance": [],
      "authorship_tag": "ABX9TyPFrfbpUxN5r1nDhG5xbh85",
      "include_colab_link": true
    },
    "kernelspec": {
      "name": "python3",
      "display_name": "Python 3"
    }
  },
  "cells": [
    {
      "cell_type": "markdown",
      "metadata": {
        "id": "view-in-github",
        "colab_type": "text"
      },
      "source": [
        "<a href=\"https://colab.research.google.com/github/saikrithik/aicrowd-insurance-pricing-game/blob/main/Training.ipynb\" target=\"_parent\"><img src=\"https://colab.research.google.com/assets/colab-badge.svg\" alt=\"Open In Colab\"/></a>"
      ]
    },
    {
      "cell_type": "code",
      "metadata": {
        "colab": {
          "base_uri": "https://localhost:8080/"
        },
        "id": "BgKsrauroyON",
        "outputId": "0cfa5d7c-07da-42bc-b1b4-82dafa60693e"
      },
      "source": [
        "!bash <(curl -sL https://gitlab.aicrowd.com/jyotish/pricing-game-notebook-scripts/raw/master/python/setup.sh)\r\n",
        "from aicrowd_helpers import *"
      ],
      "execution_count": 68,
      "outputs": [
        {
          "output_type": "stream",
          "text": [
            "⚙️ Installing AIcrowd utilities...\n",
            "  Running command git clone -q https://gitlab.aicrowd.com/yoogottamk/aicrowd-cli /tmp/pip-req-build-emifkirz\n",
            "✅ Installed AIcrowd utilities\n"
          ],
          "name": "stdout"
        }
      ]
    },
    {
      "cell_type": "code",
      "metadata": {
        "id": "HAvHKD-co7km"
      },
      "source": [
        "import sklearn\r\n",
        "\r\n",
        "class Config:\r\n",
        "  TRAINING_DATA_PATH = 'training.csv'\r\n",
        "  MODEL_OUTPUT_PATH = 'model.pkl'\r\n",
        "  AICROWD_API_KEY = 'a1dde7ec8733613146ca350a8999d4fb'  # You can get the key from https://aicrowd.com/participants/me\r\n",
        "  APT_PACKAGES = [\r\n",
        "    \"libgomp1\",\r\n",
        "  ]\r\n",
        "  ADDITIONAL_PACKAGES = [\r\n",
        "    'numpy',  # you can define versions as well, numpy==0.19.2\r\n",
        "    'pandas',\r\n",
        "    'scikit-learn==' + sklearn.__version__,\r\n",
        "    'lightgbm',\r\n",
        "    'joblib'\r\n",
        "  ]"
      ],
      "execution_count": 69,
      "outputs": []
    },
    {
      "cell_type": "code",
      "metadata": {
        "colab": {
          "base_uri": "https://localhost:8080/"
        },
        "id": "Uinn-E6mpA3-",
        "outputId": "4ae7d441-ca05-4534-ead8-80b2c44479a0"
      },
      "source": [
        "%download_aicrowd_dataset"
      ],
      "execution_count": 70,
      "outputs": [
        {
          "output_type": "stream",
          "text": [
            "💾 Downloading dataset...\n",
            "Verifying API Key...\n",
            "API Key valid\n",
            "Saved API Key successfully!\n",
            "✅ Downloaded dataset\n"
          ],
          "name": "stdout"
        }
      ]
    },
    {
      "cell_type": "code",
      "metadata": {
        "colab": {
          "base_uri": "https://localhost:8080/"
        },
        "id": "JFnK_m9htEks",
        "outputId": "6dc11a4e-ab4d-4d81-a086-4e77ea726df9"
      },
      "source": [
        "!pip install reg_resampler"
      ],
      "execution_count": 71,
      "outputs": [
        {
          "output_type": "stream",
          "text": [
            "Requirement already satisfied: reg_resampler in /usr/local/lib/python3.6/dist-packages (2.1.1)\n",
            "Requirement already satisfied: pandas in /usr/local/lib/python3.6/dist-packages (from reg_resampler) (1.1.5)\n",
            "Requirement already satisfied: scikit-learn in /usr/local/lib/python3.6/dist-packages (from reg_resampler) (0.22.2.post1)\n",
            "Requirement already satisfied: numpy in /usr/local/lib/python3.6/dist-packages (from reg_resampler) (1.19.4)\n",
            "Requirement already satisfied: pytz>=2017.2 in /usr/local/lib/python3.6/dist-packages (from pandas->reg_resampler) (2018.9)\n",
            "Requirement already satisfied: python-dateutil>=2.7.3 in /usr/local/lib/python3.6/dist-packages (from pandas->reg_resampler) (2.8.1)\n",
            "Requirement already satisfied: joblib>=0.11 in /usr/local/lib/python3.6/dist-packages (from scikit-learn->reg_resampler) (1.0.0)\n",
            "Requirement already satisfied: scipy>=0.17.0 in /usr/local/lib/python3.6/dist-packages (from scikit-learn->reg_resampler) (1.4.1)\n",
            "Requirement already satisfied: six>=1.5 in /usr/local/lib/python3.6/dist-packages (from python-dateutil>=2.7.3->pandas->reg_resampler) (1.15.0)\n"
          ],
          "name": "stdout"
        }
      ]
    },
    {
      "cell_type": "code",
      "metadata": {
        "id": "MDF-eaEVpHc9"
      },
      "source": [
        "from lightgbm import LGBMRegressor\r\n",
        "import numpy as np\r\n",
        "import pandas as pd\r\n",
        "import pickle\r\n",
        "from sklearn.preprocessing import LabelEncoder\r\n",
        "import joblib\r\n",
        "from reg_resampler import resampler\r\n",
        "import warnings\r\n",
        "warnings.filterwarnings(\"ignore\")"
      ],
      "execution_count": 88,
      "outputs": []
    },
    {
      "cell_type": "code",
      "metadata": {
        "id": "amhsI3BhpCwK"
      },
      "source": [
        "df_train = pd.read_csv(Config.TRAINING_DATA_PATH)\r\n",
        "x = df_train.drop(columns=['claim_amount'])\r\n",
        "y = df_train['claim_amount']\r\n",
        "x_raw = x.copy()"
      ],
      "execution_count": 73,
      "outputs": []
    },
    {
      "cell_type": "code",
      "metadata": {
        "id": "-mT1A_uzp1Ds"
      },
      "source": [
        "str_cols = [ col  for col, dt in df_train.dtypes.items() if dt == object]\r\n",
        "num_cols = [x for x in df_train.columns.to_list() if x not in str_cols]"
      ],
      "execution_count": 74,
      "outputs": []
    },
    {
      "cell_type": "code",
      "metadata": {
        "colab": {
          "base_uri": "https://localhost:8080/",
          "height": 235
        },
        "id": "wPjSNT0kpGfo",
        "outputId": "d4e97284-b4b3-451f-f118-616b0f178cb4"
      },
      "source": [
        "null_frame = pd.DataFrame(df_train.isnull().sum(),columns=[\"Value\"])\r\n",
        "display(null_frame[null_frame[\"Value\"]>0])"
      ],
      "execution_count": 75,
      "outputs": [
        {
          "output_type": "display_data",
          "data": {
            "text/html": [
              "<div>\n",
              "<style scoped>\n",
              "    .dataframe tbody tr th:only-of-type {\n",
              "        vertical-align: middle;\n",
              "    }\n",
              "\n",
              "    .dataframe tbody tr th {\n",
              "        vertical-align: top;\n",
              "    }\n",
              "\n",
              "    .dataframe thead th {\n",
              "        text-align: right;\n",
              "    }\n",
              "</style>\n",
              "<table border=\"1\" class=\"dataframe\">\n",
              "  <thead>\n",
              "    <tr style=\"text-align: right;\">\n",
              "      <th></th>\n",
              "      <th>Value</th>\n",
              "    </tr>\n",
              "  </thead>\n",
              "  <tbody>\n",
              "    <tr>\n",
              "      <th>drv_age2</th>\n",
              "      <td>152896</td>\n",
              "    </tr>\n",
              "    <tr>\n",
              "      <th>drv_age_lic2</th>\n",
              "      <td>152896</td>\n",
              "    </tr>\n",
              "    <tr>\n",
              "      <th>vh_age</th>\n",
              "      <td>4</td>\n",
              "    </tr>\n",
              "    <tr>\n",
              "      <th>vh_speed</th>\n",
              "      <td>2552</td>\n",
              "    </tr>\n",
              "    <tr>\n",
              "      <th>vh_value</th>\n",
              "      <td>2552</td>\n",
              "    </tr>\n",
              "    <tr>\n",
              "      <th>vh_weight</th>\n",
              "      <td>2552</td>\n",
              "    </tr>\n",
              "  </tbody>\n",
              "</table>\n",
              "</div>"
            ],
            "text/plain": [
              "               Value\n",
              "drv_age2      152896\n",
              "drv_age_lic2  152896\n",
              "vh_age             4\n",
              "vh_speed        2552\n",
              "vh_value        2552\n",
              "vh_weight       2552"
            ]
          },
          "metadata": {
            "tags": []
          }
        }
      ]
    },
    {
      "cell_type": "code",
      "metadata": {
        "id": "Vj3Z4hOXqbBk"
      },
      "source": [
        "def preprocess(X_raw):\r\n",
        "  le = LabelEncoder()\r\n",
        "  temp = X_raw.copy()\r\n",
        "  for col in temp.columns:\r\n",
        "    if temp[col].dtype == object:\r\n",
        "      temp[col] = le.fit_transform(temp[col])\r\n",
        "  # if 'vh_make_model' in temp.columns:\r\n",
        "  #   temp = temp.drop(['vh_make_model'], axis = 1)\r\n",
        "  return temp"
      ],
      "execution_count": 76,
      "outputs": []
    },
    {
      "cell_type": "code",
      "metadata": {
        "id": "qHkwgK2aqhNb"
      },
      "source": [
        "df_train = preprocess(df_train)\r\n",
        "x = preprocess(x_raw)"
      ],
      "execution_count": 77,
      "outputs": []
    },
    {
      "cell_type": "code",
      "metadata": {
        "colab": {
          "base_uri": "https://localhost:8080/"
        },
        "id": "_2L8yeprrCW4",
        "outputId": "89efd29a-226d-4608-e3a7-c82f6f7c1dc8"
      },
      "source": [
        "temp = y**2\r\n",
        "temp.mean()"
      ],
      "execution_count": 78,
      "outputs": [
        {
          "output_type": "execute_result",
          "data": {
            "text/plain": [
              "538841.8799178002"
            ]
          },
          "metadata": {
            "tags": []
          },
          "execution_count": 78
        }
      ]
    },
    {
      "cell_type": "code",
      "metadata": {
        "colab": {
          "base_uri": "https://localhost:8080/"
        },
        "id": "dGbfxMg5rYMG",
        "outputId": "3dd07d7f-c551-4427-eaa1-962736e4766f"
      },
      "source": [
        "114.18**2"
      ],
      "execution_count": 79,
      "outputs": [
        {
          "output_type": "execute_result",
          "data": {
            "text/plain": [
              "13037.072400000001"
            ]
          },
          "metadata": {
            "tags": []
          },
          "execution_count": 79
        }
      ]
    },
    {
      "cell_type": "code",
      "metadata": {
        "colab": {
          "base_uri": "https://localhost:8080/"
        },
        "id": "wEeN3i18txM_",
        "outputId": "56b5ecb8-8abb-41d4-9022-923b26ad4ea4"
      },
      "source": [
        "y"
      ],
      "execution_count": 80,
      "outputs": [
        {
          "output_type": "execute_result",
          "data": {
            "text/plain": [
              "0         0.0\n",
              "1         0.0\n",
              "2         0.0\n",
              "3         0.0\n",
              "4         0.0\n",
              "         ... \n",
              "228211    0.0\n",
              "228212    0.0\n",
              "228213    0.0\n",
              "228214    0.0\n",
              "228215    0.0\n",
              "Name: claim_amount, Length: 228216, dtype: float64"
            ]
          },
          "metadata": {
            "tags": []
          },
          "execution_count": 80
        }
      ]
    },
    {
      "cell_type": "code",
      "metadata": {
        "colab": {
          "base_uri": "https://localhost:8080/",
          "height": 439
        },
        "id": "sTMCfjUxuA1U",
        "outputId": "8dcde2a5-9b30-4d26-8a8b-85e5d7eeefe8"
      },
      "source": [
        "x"
      ],
      "execution_count": 81,
      "outputs": [
        {
          "output_type": "execute_result",
          "data": {
            "text/html": [
              "<div>\n",
              "<style scoped>\n",
              "    .dataframe tbody tr th:only-of-type {\n",
              "        vertical-align: middle;\n",
              "    }\n",
              "\n",
              "    .dataframe tbody tr th {\n",
              "        vertical-align: top;\n",
              "    }\n",
              "\n",
              "    .dataframe thead th {\n",
              "        text-align: right;\n",
              "    }\n",
              "</style>\n",
              "<table border=\"1\" class=\"dataframe\">\n",
              "  <thead>\n",
              "    <tr style=\"text-align: right;\">\n",
              "      <th></th>\n",
              "      <th>id_policy</th>\n",
              "      <th>year</th>\n",
              "      <th>pol_no_claims_discount</th>\n",
              "      <th>pol_coverage</th>\n",
              "      <th>pol_duration</th>\n",
              "      <th>pol_sit_duration</th>\n",
              "      <th>pol_pay_freq</th>\n",
              "      <th>pol_payd</th>\n",
              "      <th>pol_usage</th>\n",
              "      <th>drv_sex1</th>\n",
              "      <th>drv_age1</th>\n",
              "      <th>drv_age_lic1</th>\n",
              "      <th>drv_drv2</th>\n",
              "      <th>drv_sex2</th>\n",
              "      <th>drv_age2</th>\n",
              "      <th>drv_age_lic2</th>\n",
              "      <th>vh_make_model</th>\n",
              "      <th>vh_age</th>\n",
              "      <th>vh_fuel</th>\n",
              "      <th>vh_type</th>\n",
              "      <th>vh_speed</th>\n",
              "      <th>vh_value</th>\n",
              "      <th>vh_weight</th>\n",
              "      <th>population</th>\n",
              "      <th>town_surface_area</th>\n",
              "    </tr>\n",
              "  </thead>\n",
              "  <tbody>\n",
              "    <tr>\n",
              "      <th>0</th>\n",
              "      <td>0</td>\n",
              "      <td>1.0</td>\n",
              "      <td>0.332</td>\n",
              "      <td>2</td>\n",
              "      <td>5</td>\n",
              "      <td>1</td>\n",
              "      <td>1</td>\n",
              "      <td>0</td>\n",
              "      <td>3</td>\n",
              "      <td>1</td>\n",
              "      <td>35.0</td>\n",
              "      <td>16.0</td>\n",
              "      <td>1</td>\n",
              "      <td>1</td>\n",
              "      <td>26.0</td>\n",
              "      <td>1.0</td>\n",
              "      <td>33</td>\n",
              "      <td>8.0</td>\n",
              "      <td>1</td>\n",
              "      <td>1</td>\n",
              "      <td>174.0</td>\n",
              "      <td>11040.0</td>\n",
              "      <td>1143.0</td>\n",
              "      <td>1270.0</td>\n",
              "      <td>33.1</td>\n",
              "    </tr>\n",
              "    <tr>\n",
              "      <th>1</th>\n",
              "      <td>25382</td>\n",
              "      <td>1.0</td>\n",
              "      <td>0.000</td>\n",
              "      <td>2</td>\n",
              "      <td>6</td>\n",
              "      <td>1</td>\n",
              "      <td>1</td>\n",
              "      <td>0</td>\n",
              "      <td>3</td>\n",
              "      <td>1</td>\n",
              "      <td>60.0</td>\n",
              "      <td>41.0</td>\n",
              "      <td>0</td>\n",
              "      <td>0</td>\n",
              "      <td>NaN</td>\n",
              "      <td>NaN</td>\n",
              "      <td>33</td>\n",
              "      <td>10.0</td>\n",
              "      <td>0</td>\n",
              "      <td>1</td>\n",
              "      <td>174.0</td>\n",
              "      <td>11040.0</td>\n",
              "      <td>1143.0</td>\n",
              "      <td>1290.0</td>\n",
              "      <td>51.3</td>\n",
              "    </tr>\n",
              "    <tr>\n",
              "      <th>2</th>\n",
              "      <td>25383</td>\n",
              "      <td>1.0</td>\n",
              "      <td>0.196</td>\n",
              "      <td>1</td>\n",
              "      <td>2</td>\n",
              "      <td>1</td>\n",
              "      <td>3</td>\n",
              "      <td>1</td>\n",
              "      <td>2</td>\n",
              "      <td>1</td>\n",
              "      <td>55.0</td>\n",
              "      <td>35.0</td>\n",
              "      <td>1</td>\n",
              "      <td>1</td>\n",
              "      <td>57.0</td>\n",
              "      <td>38.0</td>\n",
              "      <td>341</td>\n",
              "      <td>8.0</td>\n",
              "      <td>0</td>\n",
              "      <td>0</td>\n",
              "      <td>150.0</td>\n",
              "      <td>14159.0</td>\n",
              "      <td>1193.0</td>\n",
              "      <td>1020.0</td>\n",
              "      <td>262.8</td>\n",
              "    </tr>\n",
              "    <tr>\n",
              "      <th>3</th>\n",
              "      <td>25384</td>\n",
              "      <td>1.0</td>\n",
              "      <td>0.000</td>\n",
              "      <td>2</td>\n",
              "      <td>8</td>\n",
              "      <td>5</td>\n",
              "      <td>3</td>\n",
              "      <td>0</td>\n",
              "      <td>3</td>\n",
              "      <td>0</td>\n",
              "      <td>54.0</td>\n",
              "      <td>31.0</td>\n",
              "      <td>0</td>\n",
              "      <td>0</td>\n",
              "      <td>NaN</td>\n",
              "      <td>NaN</td>\n",
              "      <td>416</td>\n",
              "      <td>4.0</td>\n",
              "      <td>1</td>\n",
              "      <td>1</td>\n",
              "      <td>149.0</td>\n",
              "      <td>17233.0</td>\n",
              "      <td>1012.0</td>\n",
              "      <td>180.0</td>\n",
              "      <td>219.7</td>\n",
              "    </tr>\n",
              "    <tr>\n",
              "      <th>4</th>\n",
              "      <td>25385</td>\n",
              "      <td>1.0</td>\n",
              "      <td>0.000</td>\n",
              "      <td>1</td>\n",
              "      <td>2</td>\n",
              "      <td>2</td>\n",
              "      <td>3</td>\n",
              "      <td>0</td>\n",
              "      <td>2</td>\n",
              "      <td>0</td>\n",
              "      <td>65.0</td>\n",
              "      <td>38.0</td>\n",
              "      <td>0</td>\n",
              "      <td>0</td>\n",
              "      <td>NaN</td>\n",
              "      <td>NaN</td>\n",
              "      <td>709</td>\n",
              "      <td>13.0</td>\n",
              "      <td>1</td>\n",
              "      <td>1</td>\n",
              "      <td>200.0</td>\n",
              "      <td>19422.0</td>\n",
              "      <td>1315.0</td>\n",
              "      <td>30.0</td>\n",
              "      <td>70.3</td>\n",
              "    </tr>\n",
              "    <tr>\n",
              "      <th>...</th>\n",
              "      <td>...</td>\n",
              "      <td>...</td>\n",
              "      <td>...</td>\n",
              "      <td>...</td>\n",
              "      <td>...</td>\n",
              "      <td>...</td>\n",
              "      <td>...</td>\n",
              "      <td>...</td>\n",
              "      <td>...</td>\n",
              "      <td>...</td>\n",
              "      <td>...</td>\n",
              "      <td>...</td>\n",
              "      <td>...</td>\n",
              "      <td>...</td>\n",
              "      <td>...</td>\n",
              "      <td>...</td>\n",
              "      <td>...</td>\n",
              "      <td>...</td>\n",
              "      <td>...</td>\n",
              "      <td>...</td>\n",
              "      <td>...</td>\n",
              "      <td>...</td>\n",
              "      <td>...</td>\n",
              "      <td>...</td>\n",
              "      <td>...</td>\n",
              "    </tr>\n",
              "    <tr>\n",
              "      <th>228211</th>\n",
              "      <td>5240</td>\n",
              "      <td>4.0</td>\n",
              "      <td>0.087</td>\n",
              "      <td>2</td>\n",
              "      <td>4</td>\n",
              "      <td>4</td>\n",
              "      <td>1</td>\n",
              "      <td>0</td>\n",
              "      <td>3</td>\n",
              "      <td>0</td>\n",
              "      <td>50.0</td>\n",
              "      <td>28.0</td>\n",
              "      <td>1</td>\n",
              "      <td>1</td>\n",
              "      <td>23.0</td>\n",
              "      <td>5.0</td>\n",
              "      <td>750</td>\n",
              "      <td>15.0</td>\n",
              "      <td>0</td>\n",
              "      <td>1</td>\n",
              "      <td>179.0</td>\n",
              "      <td>16047.0</td>\n",
              "      <td>955.0</td>\n",
              "      <td>1030.0</td>\n",
              "      <td>95.3</td>\n",
              "    </tr>\n",
              "    <tr>\n",
              "      <th>228212</th>\n",
              "      <td>32820</td>\n",
              "      <td>4.0</td>\n",
              "      <td>0.000</td>\n",
              "      <td>0</td>\n",
              "      <td>14</td>\n",
              "      <td>5</td>\n",
              "      <td>1</td>\n",
              "      <td>0</td>\n",
              "      <td>3</td>\n",
              "      <td>1</td>\n",
              "      <td>40.0</td>\n",
              "      <td>22.0</td>\n",
              "      <td>1</td>\n",
              "      <td>1</td>\n",
              "      <td>34.0</td>\n",
              "      <td>12.0</td>\n",
              "      <td>243</td>\n",
              "      <td>5.0</td>\n",
              "      <td>0</td>\n",
              "      <td>1</td>\n",
              "      <td>139.0</td>\n",
              "      <td>11985.0</td>\n",
              "      <td>1264.0</td>\n",
              "      <td>30.0</td>\n",
              "      <td>89.6</td>\n",
              "    </tr>\n",
              "    <tr>\n",
              "      <th>228213</th>\n",
              "      <td>36771</td>\n",
              "      <td>4.0</td>\n",
              "      <td>0.181</td>\n",
              "      <td>0</td>\n",
              "      <td>10</td>\n",
              "      <td>4</td>\n",
              "      <td>3</td>\n",
              "      <td>0</td>\n",
              "      <td>2</td>\n",
              "      <td>0</td>\n",
              "      <td>71.0</td>\n",
              "      <td>37.0</td>\n",
              "      <td>0</td>\n",
              "      <td>0</td>\n",
              "      <td>NaN</td>\n",
              "      <td>NaN</td>\n",
              "      <td>693</td>\n",
              "      <td>15.0</td>\n",
              "      <td>1</td>\n",
              "      <td>1</td>\n",
              "      <td>175.0</td>\n",
              "      <td>23900.0</td>\n",
              "      <td>1285.0</td>\n",
              "      <td>290.0</td>\n",
              "      <td>106.1</td>\n",
              "    </tr>\n",
              "    <tr>\n",
              "      <th>228214</th>\n",
              "      <td>36347</td>\n",
              "      <td>4.0</td>\n",
              "      <td>0.000</td>\n",
              "      <td>0</td>\n",
              "      <td>25</td>\n",
              "      <td>15</td>\n",
              "      <td>0</td>\n",
              "      <td>0</td>\n",
              "      <td>1</td>\n",
              "      <td>1</td>\n",
              "      <td>49.0</td>\n",
              "      <td>31.0</td>\n",
              "      <td>0</td>\n",
              "      <td>0</td>\n",
              "      <td>NaN</td>\n",
              "      <td>NaN</td>\n",
              "      <td>578</td>\n",
              "      <td>31.0</td>\n",
              "      <td>0</td>\n",
              "      <td>1</td>\n",
              "      <td>198.0</td>\n",
              "      <td>20002.0</td>\n",
              "      <td>1320.0</td>\n",
              "      <td>30.0</td>\n",
              "      <td>104.4</td>\n",
              "    </tr>\n",
              "    <tr>\n",
              "      <th>228215</th>\n",
              "      <td>31125</td>\n",
              "      <td>4.0</td>\n",
              "      <td>0.000</td>\n",
              "      <td>0</td>\n",
              "      <td>7</td>\n",
              "      <td>6</td>\n",
              "      <td>0</td>\n",
              "      <td>0</td>\n",
              "      <td>3</td>\n",
              "      <td>0</td>\n",
              "      <td>63.0</td>\n",
              "      <td>32.0</td>\n",
              "      <td>1</td>\n",
              "      <td>2</td>\n",
              "      <td>55.0</td>\n",
              "      <td>35.0</td>\n",
              "      <td>341</td>\n",
              "      <td>7.0</td>\n",
              "      <td>0</td>\n",
              "      <td>1</td>\n",
              "      <td>150.0</td>\n",
              "      <td>14159.0</td>\n",
              "      <td>1193.0</td>\n",
              "      <td>280.0</td>\n",
              "      <td>147.8</td>\n",
              "    </tr>\n",
              "  </tbody>\n",
              "</table>\n",
              "<p>228216 rows × 25 columns</p>\n",
              "</div>"
            ],
            "text/plain": [
              "        id_policy  year  ...  population  town_surface_area\n",
              "0               0   1.0  ...      1270.0               33.1\n",
              "1           25382   1.0  ...      1290.0               51.3\n",
              "2           25383   1.0  ...      1020.0              262.8\n",
              "3           25384   1.0  ...       180.0              219.7\n",
              "4           25385   1.0  ...        30.0               70.3\n",
              "...           ...   ...  ...         ...                ...\n",
              "228211       5240   4.0  ...      1030.0               95.3\n",
              "228212      32820   4.0  ...        30.0               89.6\n",
              "228213      36771   4.0  ...       290.0              106.1\n",
              "228214      36347   4.0  ...        30.0              104.4\n",
              "228215      31125   4.0  ...       280.0              147.8\n",
              "\n",
              "[228216 rows x 25 columns]"
            ]
          },
          "metadata": {
            "tags": []
          },
          "execution_count": 81
        }
      ]
    },
    {
      "cell_type": "code",
      "metadata": {
        "colab": {
          "base_uri": "https://localhost:8080/"
        },
        "id": "9MxKQVHjtDP-",
        "outputId": "d8f3216a-ef04-4ea9-b1a6-59136f1f88a3"
      },
      "source": [
        "rs = resampler()\r\n",
        "rs.fit(preprocess(df_train),target=\"claim_amount\",bins=100)"
      ],
      "execution_count": 82,
      "outputs": [
        {
          "output_type": "stream",
          "text": [
            "INFO: Class 9 has been merged into Class 8 due to low number of samples\n",
            "INFO: Class 10 has been merged into Class 8 due to low number of samples\n",
            "INFO: Class 11 has been merged into Class 8 due to low number of samples\n",
            "INFO: Class 12 has been merged into Class 8 due to low number of samples\n",
            "INFO: Class 13 has been merged into Class 8 due to low number of samples\n",
            "INFO: Class 14 has been merged into Class 8 due to low number of samples\n",
            "INFO: Class 15 has been merged into Class 8 due to low number of samples\n",
            "INFO: Class 16 has been merged into Class 8 due to low number of samples\n",
            "INFO: Class 17 has been merged into Class 8 due to low number of samples\n",
            "INFO: Class 18 has been merged into Class 8 due to low number of samples\n",
            "INFO: Class 19 has been merged into Class 8 due to low number of samples\n",
            "INFO: Class 20 has been merged into Class 8 due to low number of samples\n",
            "INFO: Class 21 has been merged into Class 8 due to low number of samples\n",
            "INFO: Class 22 has been merged into Class 8 due to low number of samples\n",
            "INFO: Class 23 has been merged into Class 8 due to low number of samples\n",
            "\n",
            "Class Distribution:\n",
            "-------------------\n",
            "0: 222910\n",
            "1: 3591\n",
            "2: 1085\n",
            "3: 365\n",
            "4: 148\n",
            "5: 48\n",
            "6: 27\n",
            "7: 17\n",
            "8: 25\n",
            "\n"
          ],
          "name": "stdout"
        },
        {
          "output_type": "execute_result",
          "data": {
            "text/plain": [
              "array([0, 0, 0, ..., 0, 0, 0])"
            ]
          },
          "metadata": {
            "tags": []
          },
          "execution_count": 82
        }
      ]
    },
    {
      "cell_type": "code",
      "metadata": {
        "colab": {
          "base_uri": "https://localhost:8080/"
        },
        "id": "vJQYIv0mu2-U",
        "outputId": "f64f8453-6182-43c5-db2f-489554906af0"
      },
      "source": [
        "from sklearn.metrics import mean_squared_error\r\n",
        "from sklearn.model_selection import KFold, StratifiedKFold\r\n",
        "import numpy as np\r\n",
        "from collections import Counter\r\n",
        "from imblearn.over_sampling import SMOTE\r\n",
        "from imblearn.under_sampling import RandomUnderSampler\r\n",
        "rs = resampler()\r\n",
        "# Generate classes\r\n",
        "Y_classes = rs.fit(preprocess(df_train),target=\"claim_amount\",bins=100)\r\n",
        "# Create the actual target variable\r\n",
        "Y = df_train[\"claim_amount\"]\r\n",
        "# Perform K-Fold\r\n",
        "kfold, scores = KFold(n_splits=10, shuffle=True, random_state=27), list()\r\n",
        "for train, test in kfold.split(df_train):\r\n",
        "# kfold, scores = StratifiedKFold(n_splits=5, shuffle=True, random_state=27), list()\r\n",
        "# for train, test in kfold.split(df_train, Y_classes):\r\n",
        "    \r\n",
        "    # Split into train and test\r\n",
        "    x_train, y_train = df_train.iloc[train], Y_classes[train]\r\n",
        "    x_test, y_test = df_train.iloc[test], Y.iloc[test]\r\n",
        "    # Remove the target variable from x_test\r\n",
        "    x_test = x_test.drop(\"claim_amount\", axis=1)\r\n",
        "    # Get the class distriubtion for perfoming relative sampling in the next line\r\n",
        "    xp = Counter(y_train)\r\n",
        "    #Under sampling\r\n",
        "    rus = RandomUnderSampler(random_state=27, sampling_strategy={0:int(xp[0]*0.03)})\r\n",
        "    x_train, y_train = rs.resample(rus, x_train.fillna(-999), y_train)\r\n",
        "    # Your favourite oversampler\r\n",
        "    # smote = SMOTE(random_state=27, sampling_strategy={8:int(xp[8]*100.0), 7: int(xp[7]*200.0),6: int(xp[6]*205.0),\r\n",
        "    #                                                   5: int(xp[5]*100.2)})\r\n",
        "    # smote = SMOTE(random_state=27, sampling_strategy={\r\n",
        "    #                                                   5: int(xp[5]*1)})\r\n",
        "    # Generate the over-sampled data\r\n",
        "    # x_train, y_train = rs.resample(smote, x_train.fillna(-999), y_train)\r\n",
        "    # display(x_train)\r\n",
        "    # Fit the model\r\n",
        "    model = LGBMRegressor(random_state=27,n_estimators=100)\r\n",
        "    model.fit(x_train.values, np.log(y_train.values+5))\r\n",
        "    preds = np.exp(model.predict(x_test.values))\r\n",
        "    \r\n",
        "    # Check the score\r\n",
        "    score = np.sqrt(mean_squared_error(y_test.values, preds))\r\n",
        "    print(score)\r\n",
        "    scores.append(score)\r\n",
        "print(\"\\nAverage: \", sum(scores)/len(scores))"
      ],
      "execution_count": 123,
      "outputs": [
        {
          "output_type": "stream",
          "text": [
            "INFO: Class 9 has been merged into Class 8 due to low number of samples\n",
            "INFO: Class 10 has been merged into Class 8 due to low number of samples\n",
            "INFO: Class 11 has been merged into Class 8 due to low number of samples\n",
            "INFO: Class 12 has been merged into Class 8 due to low number of samples\n",
            "INFO: Class 13 has been merged into Class 8 due to low number of samples\n",
            "INFO: Class 14 has been merged into Class 8 due to low number of samples\n",
            "INFO: Class 15 has been merged into Class 8 due to low number of samples\n",
            "INFO: Class 16 has been merged into Class 8 due to low number of samples\n",
            "INFO: Class 17 has been merged into Class 8 due to low number of samples\n",
            "INFO: Class 18 has been merged into Class 8 due to low number of samples\n",
            "INFO: Class 19 has been merged into Class 8 due to low number of samples\n",
            "INFO: Class 20 has been merged into Class 8 due to low number of samples\n",
            "INFO: Class 21 has been merged into Class 8 due to low number of samples\n",
            "INFO: Class 22 has been merged into Class 8 due to low number of samples\n",
            "INFO: Class 23 has been merged into Class 8 due to low number of samples\n",
            "\n",
            "Class Distribution:\n",
            "-------------------\n",
            "0: 222910\n",
            "1: 3591\n",
            "2: 1085\n",
            "3: 365\n",
            "4: 148\n",
            "5: 48\n",
            "6: 27\n",
            "7: 17\n",
            "8: 25\n",
            "\n",
            "553.119743308748\n",
            "543.3509002425384\n",
            "502.6258093008887\n",
            "651.6487093224654\n",
            "1105.6710545283902\n",
            "816.4609880882873\n",
            "573.683840553705\n",
            "1172.9318249081675\n",
            "544.6873291211208\n",
            "517.8176427018938\n",
            "\n",
            "Average:  698.1997842076205\n"
          ],
          "name": "stdout"
        }
      ]
    },
    {
      "cell_type": "code",
      "metadata": {
        "colab": {
          "base_uri": "https://localhost:8080/"
        },
        "id": "0HXKHt4fpwj8",
        "outputId": "916b416a-2cf7-4a7c-d696-651a5fc24328"
      },
      "source": [
        "from sklearn.metrics import mean_squared_error\r\n",
        "from sklearn.model_selection import KFold, StratifiedKFold\r\n",
        "import numpy as np\r\n",
        "splits = 9\r\n",
        "kfold, scores = KFold(n_splits=splits,shuffle=True, random_state=27), []\r\n",
        "# oof = []\r\n",
        "for train_, test_ in kfold.split(x,y):\r\n",
        "    x_train, x_test = x.iloc[train_], x.iloc[test_]\r\n",
        "    y_train, y_test = y[train_], y[test_]\r\n",
        "    model = LGBMRegressor(random_state=27,n_estimators = 4)\r\n",
        "    model.fit(x_train.values, np.log(y_train.values+0.01))\r\n",
        "    preds = np.exp(model.predict(x_test.values))\r\n",
        "    \r\n",
        "    # Check the score\r\n",
        "    score = np.sqrt(mean_squared_error(y_test.values, preds))\r\n",
        "    print(score)\r\n",
        "    scores.append(score)\r\n",
        "    # oof.append(model.predict_proba(df_test))\r\n",
        "print(\"Average:Score\", sum(scores)/len(scores))"
      ],
      "execution_count": 99,
      "outputs": [
        {
          "output_type": "stream",
          "text": [
            "545.2344910814967\n",
            "529.9700131062526\n",
            "575.8737597915418\n",
            "1082.534522757594\n",
            "779.9995728525672\n",
            "575.4053621312625\n",
            "760.1035442782924\n",
            "994.956894744807\n",
            "510.5749063314361\n",
            "Average:Score 706.0725630083612\n"
          ],
          "name": "stdout"
        }
      ]
    },
    {
      "cell_type": "code",
      "metadata": {
        "id": "6YvvH3YRqY1f"
      },
      "source": [
        ""
      ],
      "execution_count": null,
      "outputs": []
    }
  ]
}